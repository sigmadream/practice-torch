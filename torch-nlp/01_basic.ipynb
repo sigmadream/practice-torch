{
 "cells": [
  {
   "attachments": {},
   "cell_type": "markdown",
   "metadata": {},
   "source": [
    "# Torch를 사용한 Tensor 만들기"
   ]
  },
  {
   "cell_type": "code",
   "execution_count": 21,
   "metadata": {},
   "outputs": [],
   "source": [
    "import torch\n",
    "import numpy as np"
   ]
  },
  {
   "cell_type": "code",
   "execution_count": 11,
   "metadata": {},
   "outputs": [],
   "source": [
    "def describe(x):\n",
    "    print(f\"타입 : {x.type()}\")\n",
    "    print(f\"크기 : {x.shape}\")\n",
    "    print(f\"값 : \\n{x}\")\n",
    "    print(\"\\n\")"
   ]
  },
  {
   "cell_type": "code",
   "execution_count": 12,
   "metadata": {},
   "outputs": [
    {
     "name": "stdout",
     "output_type": "stream",
     "text": [
      "타입 : torch.FloatTensor\n",
      "크기 : torch.Size([2, 3])\n",
      "값 : \n",
      "tensor([[0.0000e+00, 7.9874e-44, 6.4896e-10],\n",
      "        [8.3025e-10, 2.7447e-06, 6.6766e-07]])\n",
      "\n",
      "\n"
     ]
    }
   ],
   "source": [
    "describe(torch.Tensor(2, 3))"
   ]
  },
  {
   "cell_type": "code",
   "execution_count": 13,
   "metadata": {},
   "outputs": [
    {
     "name": "stdout",
     "output_type": "stream",
     "text": [
      "타입 : torch.FloatTensor\n",
      "크기 : torch.Size([2, 3])\n",
      "값 : \n",
      "tensor([[0.1111, 0.6543, 0.4092],\n",
      "        [0.4420, 0.3589, 0.4524]])\n",
      "\n",
      "\n"
     ]
    }
   ],
   "source": [
    "describe(torch.rand(2, 3)) # 균등 분포"
   ]
  },
  {
   "cell_type": "code",
   "execution_count": 14,
   "metadata": {},
   "outputs": [
    {
     "name": "stdout",
     "output_type": "stream",
     "text": [
      "타입 : torch.FloatTensor\n",
      "크기 : torch.Size([2, 3])\n",
      "값 : \n",
      "tensor([[-0.2119, -0.2601, -0.1345],\n",
      "        [-2.0077, -0.2518,  0.1913]])\n",
      "\n",
      "\n"
     ]
    }
   ],
   "source": [
    "describe(torch.randn(2, 3)) # 정규 분포"
   ]
  },
  {
   "cell_type": "code",
   "execution_count": 19,
   "metadata": {},
   "outputs": [
    {
     "name": "stdout",
     "output_type": "stream",
     "text": [
      "타입 : torch.FloatTensor\n",
      "크기 : torch.Size([2, 3])\n",
      "값 : \n",
      "tensor([[0., 0., 0.],\n",
      "        [0., 0., 0.]])\n",
      "\n",
      "\n",
      "타입 : torch.FloatTensor\n",
      "크기 : torch.Size([2, 3])\n",
      "값 : \n",
      "tensor([[1., 1., 1.],\n",
      "        [1., 1., 1.]])\n",
      "\n",
      "\n",
      "타입 : torch.FloatTensor\n",
      "크기 : torch.Size([2, 3])\n",
      "값 : \n",
      "tensor([[5., 5., 5.],\n",
      "        [5., 5., 5.]])\n",
      "\n",
      "\n"
     ]
    }
   ],
   "source": [
    "describe(torch.zeros(2,3))\n",
    "describe(torch.ones(2,3))\n",
    "x = torch.zeros(2,3)\n",
    "x.fill_(5)\n",
    "describe(x)"
   ]
  },
  {
   "cell_type": "code",
   "execution_count": 20,
   "metadata": {},
   "outputs": [
    {
     "name": "stdout",
     "output_type": "stream",
     "text": [
      "타입 : torch.FloatTensor\n",
      "크기 : torch.Size([2, 3])\n",
      "값 : \n",
      "tensor([[1., 2., 3.],\n",
      "        [4., 5., 6.]])\n",
      "\n",
      "\n"
     ]
    }
   ],
   "source": [
    "x = torch.Tensor([[1,2,3],[4,5,6]])\n",
    "describe(x)"
   ]
  },
  {
   "cell_type": "code",
   "execution_count": 22,
   "metadata": {},
   "outputs": [
    {
     "name": "stdout",
     "output_type": "stream",
     "text": [
      "타입 : torch.DoubleTensor\n",
      "크기 : torch.Size([2, 3])\n",
      "값 : \n",
      "tensor([[0.6281, 0.3268, 0.9050],\n",
      "        [0.6769, 0.6597, 0.9725]], dtype=torch.float64)\n",
      "\n",
      "\n"
     ]
    }
   ],
   "source": [
    "npy = np.random.rand(2,3)\n",
    "describe(torch.from_numpy(npy))"
   ]
  },
  {
   "attachments": {},
   "cell_type": "markdown",
   "metadata": {},
   "source": [
    "# Tensor 타입과 크기"
   ]
  },
  {
   "cell_type": "code",
   "execution_count": 23,
   "metadata": {},
   "outputs": [
    {
     "name": "stdout",
     "output_type": "stream",
     "text": [
      "타입 : torch.FloatTensor\n",
      "크기 : torch.Size([2, 3])\n",
      "값 : \n",
      "tensor([[1., 2., 3.],\n",
      "        [4., 5., 6.]])\n",
      "\n",
      "\n"
     ]
    }
   ],
   "source": [
    "x = torch.FloatTensor([[1,2,3],[4,5,6]])\n",
    "describe(x)"
   ]
  },
  {
   "cell_type": "code",
   "execution_count": 24,
   "metadata": {},
   "outputs": [
    {
     "name": "stdout",
     "output_type": "stream",
     "text": [
      "타입 : torch.LongTensor\n",
      "크기 : torch.Size([2, 3])\n",
      "값 : \n",
      "tensor([[1, 2, 3],\n",
      "        [4, 5, 6]])\n",
      "\n",
      "\n"
     ]
    }
   ],
   "source": [
    "x = x.long()\n",
    "describe(x)"
   ]
  },
  {
   "cell_type": "code",
   "execution_count": 25,
   "metadata": {},
   "outputs": [
    {
     "name": "stdout",
     "output_type": "stream",
     "text": [
      "타입 : torch.LongTensor\n",
      "크기 : torch.Size([2, 3])\n",
      "값 : \n",
      "tensor([[1, 2, 3],\n",
      "        [4, 5, 6]])\n",
      "\n",
      "\n"
     ]
    }
   ],
   "source": [
    "x = torch.tensor([[1,2,3],[4,5,6]], dtype=torch.int64)\n",
    "describe(x)"
   ]
  },
  {
   "cell_type": "code",
   "execution_count": 27,
   "metadata": {},
   "outputs": [
    {
     "name": "stdout",
     "output_type": "stream",
     "text": [
      "타입 : torch.FloatTensor\n",
      "크기 : torch.Size([2, 3])\n",
      "값 : \n",
      "tensor([[1., 2., 3.],\n",
      "        [4., 5., 6.]])\n",
      "\n",
      "\n"
     ]
    }
   ],
   "source": [
    "x = x.float()\n",
    "describe(x)"
   ]
  },
  {
   "attachments": {},
   "cell_type": "markdown",
   "metadata": {},
   "source": [
    "# Tensor 연산"
   ]
  },
  {
   "cell_type": "code",
   "execution_count": 28,
   "metadata": {},
   "outputs": [
    {
     "name": "stdout",
     "output_type": "stream",
     "text": [
      "타입 : torch.FloatTensor\n",
      "크기 : torch.Size([2, 3])\n",
      "값 : \n",
      "tensor([[-0.6622,  0.2510, -0.4818],\n",
      "        [ 0.8495, -1.8206,  0.4098]])\n",
      "\n",
      "\n"
     ]
    }
   ],
   "source": [
    "x = torch.randn(2,3)\n",
    "describe(x)"
   ]
  }
 ],
 "metadata": {
  "kernelspec": {
   "display_name": ".venv",
   "language": "python",
   "name": "python3"
  },
  "language_info": {
   "codemirror_mode": {
    "name": "ipython",
    "version": 3
   },
   "file_extension": ".py",
   "mimetype": "text/x-python",
   "name": "python",
   "nbconvert_exporter": "python",
   "pygments_lexer": "ipython3",
   "version": "3.10.8"
  },
  "orig_nbformat": 4,
  "vscode": {
   "interpreter": {
    "hash": "3b45887a066a6d44029891da181630c6751d9fe49a8f7c8c11492caa0ecfe641"
   }
  }
 },
 "nbformat": 4,
 "nbformat_minor": 2
}
